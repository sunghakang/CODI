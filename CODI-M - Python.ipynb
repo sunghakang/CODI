{
 "cells": [
  {
   "cell_type": "code",
   "execution_count": 1,
   "metadata": {},
   "outputs": [],
   "source": [
    "import numpy as np\n",
    "import matplotlib.pyplot as plt\n",
    "import time\n",
    "from sklearn.cluster import DBSCAN\n",
    "from matplotlib import image\n",
    "from skimage.transform import resize"
   ]
  },
  {
   "cell_type": "code",
   "execution_count": 2,
   "metadata": {},
   "outputs": [],
   "source": [
    "## INITIALIZE\n",
    "DownSampleRage     = 2           # The percentage of pixels kept from an original image\n",
    "fig_name           = 'sample_img.jpg'\n",
    "half_seed_len      = 1           # half of the length of a squared seed\n",
    "dist_seed_center   = 6           # distance between the center of consecutive seeds\n",
    "eps                = 0.6         # PARA eps in DBSCAN\n",
    "MP                 = 6           # PARA m in DBSCAN\n",
    "mu                 = 0.00005     # PARA mu in diffusion algorithm\n",
    "theta              = 1           # PARA theta in diffusion algorithm\n",
    "eta                = 0.0001      # PARA eta in diffusion algorithm\n",
    "R_n                = 0.01        # Stoppting criteria of diffusion algorithm\n",
    "seedsdim           = 4           # Total dimension of seeds\n",
    "treshvalue         = 205         # Threshold in preprocessing step to get mask image"
   ]
  },
  {
   "cell_type": "code",
   "execution_count": 3,
   "metadata": {},
   "outputs": [],
   "source": [
    "def AlgIEdge(SeedIm, EdgeIm, X_D, mu, theta, eta, perc):\n",
    "#      This algorithm is the Edge-weighted harmonic variational optimization model\n",
    "#      proposed in the paper\n",
    "#      -inputs:\n",
    "#       SeedIm       : Seed Image\n",
    "#       EdgeIm       : Mask Image of the image that $g$ applied onto\n",
    "#       mu           : multiplier on the constraint V−U=0.\n",
    "#       lamb         : λ, the Lagrange multiplier associated with the linear constraint V−U=0.\n",
    "#       eta          : η, fidelity parameter\n",
    "#      -output :\n",
    "#       DiffusedIm   : Diffused image\n",
    "\n",
    "    objval = []\n",
    "    X_D  = X_D * EdgeIm\n",
    "    u0   = SeedIm\n",
    "    u    = u0\n",
    "    v    = u0\n",
    " \n",
    "    n = u0.shape[0]\n",
    "    m = u0.shape[1]\n",
    "    lamb = np.zeros((n,m))\n",
    "    G0 = np.max(EdgeIm)\n",
    "    C  = EdgeIm - G0 \n",
    "\n",
    "    A = np.zeros((n, m))\n",
    "\n",
    "    for i in range(n):\n",
    "        for j in range(m):\n",
    "            A[i,j] = theta + mu- 4*G0 *(np.cos(2*np.pi*(i)/n)+ np.cos(2*np.pi*(j)/m)-2)\n",
    "\n",
    "    obj= np.sum(EdgeIm * (dxf(u) ** 2 + dyf(u) ** 2) + 0.5 * eta * X_D *(u-SeedIm))\n",
    "    objval.append(obj)\n",
    "    \n",
    "    err = 100\n",
    "    while err > perc:\n",
    "\n",
    "        ux = dxf(u)\n",
    "        uy = dyf(u)\n",
    "        g = theta * u + 2 * dxb(C * ux) + 2 * dyb(C * uy)+ mu * v +lamb\n",
    "        u = np.real(np.fft.ifftn(np.fft.fftn(g) / A))\n",
    "        v = (eta * X_D *u0+mu*u-lamb) /( eta * X_D + mu)\n",
    "        lamb += mu * (v-u)\n",
    "        \n",
    "        obj= np.sum(EdgeIm * (dxf(u) ** 2+ dyf(u) ** 2) + 0.5 * eta * X_D * (u - SeedIm))\n",
    "        objval.append(obj)\n",
    "        err = (objval[-2]-objval[-1])/objval[-1]\n",
    "\n",
    "    return u\n"
   ]
  },
  {
   "cell_type": "code",
   "execution_count": 4,
   "metadata": {},
   "outputs": [],
   "source": [
    "def dyf(u):\n",
    "    v = np.zeros((u.shape[0], u.shape[1]))\n",
    "    v[:, 1:] = u[:,1:] - u[:,:-1]\n",
    "    v[:, -1] = u[:,0]  - u[:,-1]\n",
    "    return v\n",
    "\n",
    "def dxf(u):\n",
    "    v = np.zeros((u.shape[0], u.shape[1]))\n",
    "    v[:-1,:] = u[1:,:]  - u[:-1,:]\n",
    "    v[-1,:] = u[0, :]  - u[-1, :]\n",
    "    return v\n",
    "\n",
    "def dxb(u):\n",
    "    v = np.zeros((u.shape[0], u.shape[1]))\n",
    "    v[0,:] = u[0,:] - u[-1,:]\n",
    "    v[1:,:] = u[1:,:] - u[:-1,:]\n",
    "    return v\n",
    "\n",
    "def dyb(u):\n",
    "    v = np.zeros((u.shape[0], u.shape[1]))\n",
    "    v[:,0] = u[:,0] - u[:,-1]\n",
    "    v[:,1:] = u[:,1:] - u[:,:-1]\n",
    "    return v"
   ]
  },
  {
   "cell_type": "code",
   "execution_count": 5,
   "metadata": {},
   "outputs": [],
   "source": [
    "# load and display an image with Matplotlib\n",
    "\n",
    "\n",
    "# load image as pixel array\n",
    "image = image.imread('sample_img.jpg')\n",
    "\n",
    "# summarize shape of the pixel array\n",
    "# print(image.dtype)\n",
    "# print(image.shape)\n",
    "\n",
    "# # display the array of pixels as an image\n",
    "# plt.imshow(image)\n",
    "# plt.show()"
   ]
  },
  {
   "cell_type": "code",
   "execution_count": 6,
   "metadata": {},
   "outputs": [
    {
     "name": "stdout",
     "output_type": "stream",
     "text": [
      "Finish reading\n"
     ]
    }
   ],
   "source": [
    "print('Finish reading')"
   ]
  },
  {
   "cell_type": "code",
   "execution_count": 7,
   "metadata": {},
   "outputs": [
    {
     "name": "stdout",
     "output_type": "stream",
     "text": [
      "start timing\n"
     ]
    }
   ],
   "source": [
    "print('start timing')\n",
    "t = time.time()"
   ]
  },
  {
   "cell_type": "code",
   "execution_count": 8,
   "metadata": {},
   "outputs": [],
   "source": [
    "Im = resize(image, (image.shape[0] // 2, image.shape[1] // 2),anti_aliasing=False)"
   ]
  },
  {
   "cell_type": "code",
   "execution_count": 9,
   "metadata": {},
   "outputs": [],
   "source": [
    "Im = (Im - np.min(Im)) / (np.max(Im) - np.min(Im))"
   ]
  },
  {
   "cell_type": "code",
   "execution_count": 10,
   "metadata": {},
   "outputs": [],
   "source": [
    "# display the downsampled of pixels as an image\n",
    "# pyplot.imshow(Im)\n",
    "# pyplot.show()"
   ]
  },
  {
   "cell_type": "code",
   "execution_count": 11,
   "metadata": {},
   "outputs": [],
   "source": [
    "n = Im.shape[0]\n",
    "m = Im.shape[1]\n",
    "phi = np.zeros((n + 6, m+6))\n",
    "phi[3:3+n,3:3+m] = Im[:,:,0] ** 2 + Im[:,:,1] ** 2 + Im[:,:,2] ** 2\n",
    "phi = (phi - np.min(phi)) / (np.max(phi) - np.min(phi))"
   ]
  },
  {
   "cell_type": "code",
   "execution_count": 12,
   "metadata": {},
   "outputs": [],
   "source": [
    "EdgeMask = np.zeros((n+6, m+6))\n",
    "EdgeMask[phi > (150 / 255)] = 1\n",
    "# display the mask image\n",
    "# pyplot.imshow(EdgeMask)\n",
    "# pyplot.show()"
   ]
  },
  {
   "cell_type": "code",
   "execution_count": 13,
   "metadata": {},
   "outputs": [],
   "source": [
    "seed_image         = np.zeros((n+6,m+6,seedsdim))\n",
    "seed_binary_domain = np.zeros((n+6,m+6))\n",
    "\n",
    "seed_loc_i = np.arange(half_seed_len+1, n, dist_seed_center) \n",
    "seed_loc_j = np.arange(half_seed_len+1, m, dist_seed_center)"
   ]
  },
  {
   "cell_type": "code",
   "execution_count": 14,
   "metadata": {},
   "outputs": [],
   "source": [
    "# generate seeds in the 1st component\n",
    "# increse j first then increase i\n",
    "k = 1  # start with value 1 and every time increase k by 1\n",
    "for i in seed_loc_i:\n",
    "    for j in seed_loc_j:\n",
    "        seed_image[i-half_seed_len:i,j-half_seed_len:j,0] = k\n",
    "        seed_binary_domain[i-half_seed_len:i,j-half_seed_len:j] = 1\n",
    "        k += 1\n",
    "\n",
    "                           "
   ]
  },
  {
   "cell_type": "code",
   "execution_count": 15,
   "metadata": {},
   "outputs": [],
   "source": [
    "# generate seeds in the 2nd component\n",
    "# increse i first then decrease j\n",
    "k = k - 1\n",
    "for  j in seed_loc_j[::-1]:\n",
    "    for i in seed_loc_i:\n",
    "        seed_image[i-half_seed_len:i,j-half_seed_len:j,1]=k\n",
    "        k -= 1"
   ]
  },
  {
   "cell_type": "code",
   "execution_count": 16,
   "metadata": {},
   "outputs": [],
   "source": [
    "# generate permutated seeds in 3rd, 4th components\n",
    "\n",
    "# generate random permutated uniformly distributed values of seeds\n",
    "# between [1,255] and store them in random_seeds_val.\n",
    "# each column is a permutation\n",
    "\n",
    "random_seeds_val = np.zeros((len(seed_loc_i) * len(seed_loc_j),2))\n",
    "for p in range(2):\n",
    "    random_seeds_val[:,p] = np.random.permutation(len(seed_loc_i) * len(seed_loc_j))\n",
    "\n",
    "    \n",
    "l = 0\n",
    "for i in seed_loc_i:\n",
    "    for j in seed_loc_j:\n",
    "        seed_image[i-half_seed_len:i,j-half_seed_len:j,2] = random_seeds_val[l,0];\n",
    "        seed_image[i-half_seed_len:i,j-half_seed_len:j,3] = random_seeds_val[l,1];\n",
    "        l += 1\n"
   ]
  },
  {
   "cell_type": "code",
   "execution_count": 17,
   "metadata": {},
   "outputs": [],
   "source": [
    "# Ensure that the values of seeds are located in [1,255] % to distinct the\n",
    "# seed values from the background value 0\n",
    "seed_image = seed_image/np.max(seed_image)*255"
   ]
  },
  {
   "cell_type": "code",
   "execution_count": 18,
   "metadata": {},
   "outputs": [],
   "source": [
    "# display the seed image\n",
    "# fig, ax = plt.subplots()\n",
    "# ax.imshow(seed_image/255, extent=[0,1, 0, 1])\n",
    "# plt.tight_layout()\n",
    "# plt.show()"
   ]
  },
  {
   "cell_type": "code",
   "execution_count": 19,
   "metadata": {},
   "outputs": [
    {
     "name": "stdout",
     "output_type": "stream",
     "text": [
      "Finished generating seeds \n",
      "\n"
     ]
    }
   ],
   "source": [
    "print('Finished generating seeds \\n')"
   ]
  },
  {
   "cell_type": "code",
   "execution_count": 20,
   "metadata": {},
   "outputs": [
    {
     "name": "stdout",
     "output_type": "stream",
     "text": [
      "Finshied diffusing seeds \n",
      "\n"
     ]
    }
   ],
   "source": [
    "#  Edge-weighted harmonic variational optimization model\n",
    "#  perform diffusion in each dimension \n",
    "AlgIdiffIm = np.zeros((n+6, m+6, seedsdim))\n",
    "for p in range(seedsdim):\n",
    "    diffused =  AlgIEdge(seed_image[:,:,p],EdgeMask,seed_binary_domain,mu,theta,eta,R_n)\n",
    "    # normalize the diffused image and only preserve the pixels within\n",
    "    # the mask image\n",
    "    diffused = (diffused / np.max(diffused)) * 255 * EdgeMask\n",
    "    AlgIdiffIm[:,:,p] = diffused\n",
    "\n",
    "print('Finshied diffusing seeds \\n')"
   ]
  },
  {
   "cell_type": "code",
   "execution_count": 21,
   "metadata": {},
   "outputs": [],
   "source": [
    "# fig, ax = plt.subplots()\n",
    "# ax.imshow(AlgIdiffIm[:,:,0]/255)\n",
    "# plt.tight_layout()\n",
    "# plt.show()\n",
    "\n",
    "# fig, ax = plt.subplots()\n",
    "# ax.imshow(AlgIdiffIm[:,:,1]/255)\n",
    "# plt.tight_layout()\n",
    "# plt.show()\n",
    "\n",
    "# fig, ax = plt.subplots()\n",
    "# ax.imshow(AlgIdiffIm[:,:,2]/255)\n",
    "# plt.tight_layout()\n",
    "# plt.show()\n",
    "\n",
    "# fig, ax = plt.subplots()\n",
    "# ax.imshow(AlgIdiffIm[:,:,3]/255)\n",
    "# plt.tight_layout()\n",
    "# plt.show()"
   ]
  },
  {
   "cell_type": "code",
   "execution_count": 22,
   "metadata": {},
   "outputs": [],
   "source": [
    "# Apply DBSCAN to diffused image\n",
    "# Vectorize the diffused pixels in all objects.\n",
    "D = []\n",
    "for p in range(seedsdim):\n",
    "    DD =  AlgIdiffIm[:,:,p]\n",
    "    D.append(DD[DD >0])\n",
    "    # Each row in D is associated with a pixel in the mask in multiple\n",
    "    # dimension\n",
    "    # Each column of D is associated with all pixels in the mask in one\n",
    "    # dimension\n",
    "D = np.array(D).T"
   ]
  },
  {
   "cell_type": "code",
   "execution_count": 23,
   "metadata": {},
   "outputs": [
    {
     "name": "stdout",
     "output_type": "stream",
     "text": [
      "Finished Clustering\n",
      "CPU time:  1.5409953594207764 seconds\n"
     ]
    }
   ],
   "source": [
    "# Apply a high dimensional density based clustering algorithm to D with\n",
    "# predeterminated paramters eps(\\epsilon) and MP(MinPoints)\n",
    "clustering = DBSCAN(eps=eps, min_samples=MP).fit(D)\n",
    "IDX = clustering.labels_\n",
    "# Number of clusters in labels, ignoring noise if present.\n",
    "NumOfClusters = len(set(IDX)) - (1 if -1 in IDX else 0)\n",
    "n_noise_ = list(IDX).count(-1)\n",
    "print('Finished Clustering')\n",
    "elapsed = time.time() - t\n",
    "print('CPU time: ', elapsed, 'seconds')"
   ]
  },
  {
   "cell_type": "code",
   "execution_count": 24,
   "metadata": {},
   "outputs": [
    {
     "data": {
      "image/png": "[encoded data removed]",
      "text/plain": [
       "<Figure size 432x288 with 1 Axes>"
      ]
     },
     "metadata": {
      "needs_background": "light"
     },
     "output_type": "display_data"
    }
   ],
   "source": [
    "core_samples_mask = np.zeros_like(clustering.labels_, dtype=bool)\n",
    "core_samples_mask[clustering.core_sample_indices_] = True\n",
    "labels = clustering.labels_\n",
    "\n",
    "# Black removed and is used for noise instead.\n",
    "labels = IDX\n",
    "unique_labels = set(labels)\n",
    "colors = [plt.cm.Spectral(each)\n",
    "          for each in np.linspace(0, 1, len(unique_labels))]\n",
    "for k, col in zip(unique_labels, colors):\n",
    "    if k == -1:\n",
    "        # Black used for noise.\n",
    "        col = [0, 0, 0, 1]\n",
    "\n",
    "    class_member_mask = (labels == k)\n",
    "\n",
    "    xy = D[class_member_mask & core_samples_mask]\n",
    "    plt.plot(D[:, 0], D[:, 1], 'o', markerfacecolor=tuple(col),\n",
    "             markersize=0.1)\n",
    "\n",
    "    xy = D[class_member_mask & ~core_samples_mask]\n",
    "    plt.plot(D[:, 0], D[:, 1], 'o', markerfacecolor=tuple(col),\n",
    "             markersize=0.1)\n",
    "\n",
    "plt.title('Estimated number of clusters: %d' % NumOfClusters)\n",
    "plt.show()"
   ]
  }
 ],
 "metadata": {
  "kernelspec": {
   "display_name": "Python 3",
   "language": "python",
   "name": "python3"
  },
  "language_info": {
   "codemirror_mode": {
    "name": "ipython",
    "version": 3
   },
   "file_extension": ".py",
   "mimetype": "text/x-python",
   "name": "python",
   "nbconvert_exporter": "python",
   "pygments_lexer": "ipython3",
   "version": "3.8.3"
  }
 },
 "nbformat": 4,
 "nbformat_minor": 4
}
